{
  "nbformat": 4,
  "nbformat_minor": 0,
  "metadata": {
    "colab": {
      "name": "TumorCancerPrediction.ipynb",
      "provenance": [],
      "collapsed_sections": [],
      "toc_visible": true,
      "mount_file_id": "1Eyi_Qf_ckgLf_y-NFQrH_w1rSnpdPCP3",
      "authorship_tag": "ABX9TyOkLqN+0aeyNz4BVQCcXDnY",
      "include_colab_link": true
    },
    "kernelspec": {
      "name": "python3",
      "display_name": "Python 3"
    }
  },
  "cells": [
    {
      "cell_type": "markdown",
      "metadata": {
        "id": "view-in-github",
        "colab_type": "text"
      },
      "source": [
        "<a href=\"https://colab.research.google.com/github/MohamedHashimYoussef/Brain-Tumor-Diagnosis/blob/master/TumorCancerPrediction.ipynb\" target=\"_parent\"><img src=\"https://colab.research.google.com/assets/colab-badge.svg\" alt=\"Open In Colab\"/></a>"
      ]
    },
    {
      "cell_type": "markdown",
      "metadata": {
        "id": "12qJDaF3f6Qg",
        "colab_type": "text"
      },
      "source": [
        "# **Introduction**\n",
        "\n",
        "> A tumor is an abnormal lump or growth of cells. When the cells in the tumor are normal, it is benign. Something just went wrong, and they overgrew and produced a lump. When the cells are abnormal and can grow uncontrollably, they are cancerous cells, and the tumor is malignant.\n",
        "\n",
        "\n",
        "\n",
        "\n",
        "\n",
        "> The early diagnosis of Tumor can improve the prognosis and chance of survival significantly, as it can promote timely clinical treatment to patients. Further accurate classification of benign tumors can prevent patients undergoing unnecessary treatments.\n",
        "\n",
        "\n",
        "# **Goal**\n",
        "\n",
        ">  Predict the Patient diagnosis based on the given features.\n",
        "\n"
      ]
    },
    {
      "cell_type": "markdown",
      "metadata": {
        "id": "cHJff1YGg6Z6",
        "colab_type": "text"
      },
      "source": [
        "# **Data**\n",
        "\n",
        "\n",
        "* **Train and validation data :**\n",
        "\n",
        "\n",
        "> Contains 455 row each row consist of 30 independent features(F1 -> F30) and 1 dependent   feature(diagnosis)\n",
        "\n",
        "\n",
        "  \n",
        "* **Test data :**\n",
        "\n",
        "> Contains 114 row each row consist of 30 independent features(F1 -> F30)\n",
        "\n",
        "\n",
        "\n",
        "\n"
      ]
    },
    {
      "cell_type": "code",
      "metadata": {
        "id": "6vTFa3aqkCwk",
        "colab_type": "code",
        "outputId": "94361302-a82f-4ab9-ff8a-75dff62b1470",
        "colab": {
          "base_uri": "https://localhost:8080/",
          "height": 34
        }
      },
      "source": [
        "# Import Helpful Packages\n",
        "\n",
        "import numpy as np\n",
        "import pandas as pd\n",
        "import matplotlib.pyplot as plt\n",
        "from sklearn.preprocessing import StandardScaler\n",
        "from sklearn.model_selection import train_test_split\n",
        "from keras.models import Sequential\n",
        "from keras.layers import Dense \n",
        "import seaborn as sns\n",
        "from sklearn.neighbors import KNeighborsClassifier\n",
        "from sklearn.metrics import confusion_matrix\n",
        "from sklearn.metrics import plot_confusion_matrix\n",
        "\n",
        "import os\n",
        "print(os.listdir(\"/content/drive/My Drive/Tumor/\"))\n"
      ],
      "execution_count": 0,
      "outputs": [
        {
          "output_type": "stream",
          "text": [
            "['Tumor Cancer Prediction_test.csv', 'Tumor Cancer Prediction_train.csv', 'Tumor Cancer Prediction_sample.csv']\n"
          ],
          "name": "stdout"
        }
      ]
    },
    {
      "cell_type": "markdown",
      "metadata": {
        "id": "2YMxdgg6nqM_",
        "colab_type": "text"
      },
      "source": [
        "# **Read Data**"
      ]
    },
    {
      "cell_type": "code",
      "metadata": {
        "id": "b-oAr9Iln9cJ",
        "colab_type": "code",
        "colab": {}
      },
      "source": [
        "# We are rading our data\n",
        "data = pd.read_csv('/content/drive/My Drive/Tumor/Tumor Cancer Prediction_train.csv')"
      ],
      "execution_count": 0,
      "outputs": []
    },
    {
      "cell_type": "code",
      "metadata": {
        "id": "BTozyjm2oc5u",
        "colab_type": "code",
        "outputId": "bff4bfdb-0102-4b1a-b7cb-40663d9be7f3",
        "colab": {
          "base_uri": "https://localhost:8080/",
          "height": 224
        }
      },
      "source": [
        "# Print First Five rows in Data\n",
        "data.head()"
      ],
      "execution_count": 0,
      "outputs": [
        {
          "output_type": "execute_result",
          "data": {
            "text/html": [
              "<div>\n",
              "<style scoped>\n",
              "    .dataframe tbody tr th:only-of-type {\n",
              "        vertical-align: middle;\n",
              "    }\n",
              "\n",
              "    .dataframe tbody tr th {\n",
              "        vertical-align: top;\n",
              "    }\n",
              "\n",
              "    .dataframe thead th {\n",
              "        text-align: right;\n",
              "    }\n",
              "</style>\n",
              "<table border=\"1\" class=\"dataframe\">\n",
              "  <thead>\n",
              "    <tr style=\"text-align: right;\">\n",
              "      <th></th>\n",
              "      <th>Index</th>\n",
              "      <th>F1</th>\n",
              "      <th>F2</th>\n",
              "      <th>F3</th>\n",
              "      <th>F4</th>\n",
              "      <th>F5</th>\n",
              "      <th>F6</th>\n",
              "      <th>F7</th>\n",
              "      <th>F8</th>\n",
              "      <th>F9</th>\n",
              "      <th>F10</th>\n",
              "      <th>F11</th>\n",
              "      <th>F12</th>\n",
              "      <th>F13</th>\n",
              "      <th>F14</th>\n",
              "      <th>F15</th>\n",
              "      <th>F16</th>\n",
              "      <th>F17</th>\n",
              "      <th>F18</th>\n",
              "      <th>F19</th>\n",
              "      <th>F20</th>\n",
              "      <th>F21</th>\n",
              "      <th>F22</th>\n",
              "      <th>F23</th>\n",
              "      <th>F24</th>\n",
              "      <th>F25</th>\n",
              "      <th>F26</th>\n",
              "      <th>F27</th>\n",
              "      <th>F28</th>\n",
              "      <th>F29</th>\n",
              "      <th>F30</th>\n",
              "      <th>diagnosis</th>\n",
              "    </tr>\n",
              "  </thead>\n",
              "  <tbody>\n",
              "    <tr>\n",
              "      <th>0</th>\n",
              "      <td>1</td>\n",
              "      <td>0.008043</td>\n",
              "      <td>10.05</td>\n",
              "      <td>17.53</td>\n",
              "      <td>64.41</td>\n",
              "      <td>0.02100</td>\n",
              "      <td>0.10070</td>\n",
              "      <td>0.1402</td>\n",
              "      <td>0.07326</td>\n",
              "      <td>0.02511</td>\n",
              "      <td>0.01690</td>\n",
              "      <td>0.01775</td>\n",
              "      <td>0.01449</td>\n",
              "      <td>0.07664</td>\n",
              "      <td>0.1890</td>\n",
              "      <td>0.06331</td>\n",
              "      <td>384.0</td>\n",
              "      <td>0.2619</td>\n",
              "      <td>0.2894</td>\n",
              "      <td>0.14020</td>\n",
              "      <td>2.0150</td>\n",
              "      <td>1.778</td>\n",
              "      <td>16.85</td>\n",
              "      <td>0.007803</td>\n",
              "      <td>0.1055</td>\n",
              "      <td>0.002778</td>\n",
              "      <td>11.16</td>\n",
              "      <td>26.84</td>\n",
              "      <td>71.98</td>\n",
              "      <td>310.8</td>\n",
              "      <td>0.06499</td>\n",
              "      <td>B</td>\n",
              "    </tr>\n",
              "    <tr>\n",
              "      <th>1</th>\n",
              "      <td>2</td>\n",
              "      <td>0.010450</td>\n",
              "      <td>10.80</td>\n",
              "      <td>21.98</td>\n",
              "      <td>68.79</td>\n",
              "      <td>0.01844</td>\n",
              "      <td>0.08801</td>\n",
              "      <td>0.1303</td>\n",
              "      <td>0.05743</td>\n",
              "      <td>0.03614</td>\n",
              "      <td>0.02991</td>\n",
              "      <td>0.01404</td>\n",
              "      <td>0.02148</td>\n",
              "      <td>0.07662</td>\n",
              "      <td>0.2016</td>\n",
              "      <td>0.05977</td>\n",
              "      <td>489.5</td>\n",
              "      <td>0.3077</td>\n",
              "      <td>0.2965</td>\n",
              "      <td>0.16960</td>\n",
              "      <td>1.6210</td>\n",
              "      <td>2.240</td>\n",
              "      <td>20.20</td>\n",
              "      <td>0.006543</td>\n",
              "      <td>0.1927</td>\n",
              "      <td>0.002690</td>\n",
              "      <td>12.76</td>\n",
              "      <td>32.04</td>\n",
              "      <td>83.69</td>\n",
              "      <td>359.9</td>\n",
              "      <td>0.07485</td>\n",
              "      <td>B</td>\n",
              "    </tr>\n",
              "    <tr>\n",
              "      <th>2</th>\n",
              "      <td>3</td>\n",
              "      <td>0.008747</td>\n",
              "      <td>16.14</td>\n",
              "      <td>14.86</td>\n",
              "      <td>104.30</td>\n",
              "      <td>0.01500</td>\n",
              "      <td>0.09495</td>\n",
              "      <td>0.1206</td>\n",
              "      <td>0.08501</td>\n",
              "      <td>0.05500</td>\n",
              "      <td>0.01831</td>\n",
              "      <td>0.04528</td>\n",
              "      <td>0.01246</td>\n",
              "      <td>0.07012</td>\n",
              "      <td>0.1735</td>\n",
              "      <td>0.05875</td>\n",
              "      <td>947.9</td>\n",
              "      <td>0.2387</td>\n",
              "      <td>0.2778</td>\n",
              "      <td>0.17220</td>\n",
              "      <td>0.6372</td>\n",
              "      <td>1.729</td>\n",
              "      <td>21.83</td>\n",
              "      <td>0.003958</td>\n",
              "      <td>0.2310</td>\n",
              "      <td>0.001621</td>\n",
              "      <td>17.71</td>\n",
              "      <td>19.58</td>\n",
              "      <td>115.90</td>\n",
              "      <td>800.0</td>\n",
              "      <td>0.11290</td>\n",
              "      <td>B</td>\n",
              "    </tr>\n",
              "    <tr>\n",
              "      <th>3</th>\n",
              "      <td>4</td>\n",
              "      <td>0.015190</td>\n",
              "      <td>12.18</td>\n",
              "      <td>17.84</td>\n",
              "      <td>77.79</td>\n",
              "      <td>0.02220</td>\n",
              "      <td>0.10450</td>\n",
              "      <td>0.1140</td>\n",
              "      <td>0.07057</td>\n",
              "      <td>0.02490</td>\n",
              "      <td>0.01131</td>\n",
              "      <td>0.02941</td>\n",
              "      <td>0.01179</td>\n",
              "      <td>0.07376</td>\n",
              "      <td>0.1900</td>\n",
              "      <td>0.06635</td>\n",
              "      <td>495.2</td>\n",
              "      <td>0.3661</td>\n",
              "      <td>0.2227</td>\n",
              "      <td>0.09358</td>\n",
              "      <td>1.5110</td>\n",
              "      <td>2.410</td>\n",
              "      <td>24.44</td>\n",
              "      <td>0.005433</td>\n",
              "      <td>0.0498</td>\n",
              "      <td>0.003408</td>\n",
              "      <td>12.83</td>\n",
              "      <td>20.92</td>\n",
              "      <td>82.14</td>\n",
              "      <td>451.1</td>\n",
              "      <td>0.05882</td>\n",
              "      <td>B</td>\n",
              "    </tr>\n",
              "    <tr>\n",
              "      <th>4</th>\n",
              "      <td>5</td>\n",
              "      <td>0.004551</td>\n",
              "      <td>12.25</td>\n",
              "      <td>22.44</td>\n",
              "      <td>78.18</td>\n",
              "      <td>0.01608</td>\n",
              "      <td>0.08192</td>\n",
              "      <td>0.1256</td>\n",
              "      <td>0.05200</td>\n",
              "      <td>0.01714</td>\n",
              "      <td>0.00941</td>\n",
              "      <td>0.01261</td>\n",
              "      <td>0.01205</td>\n",
              "      <td>0.08203</td>\n",
              "      <td>0.1544</td>\n",
              "      <td>0.05976</td>\n",
              "      <td>622.9</td>\n",
              "      <td>0.2239</td>\n",
              "      <td>0.3100</td>\n",
              "      <td>0.18040</td>\n",
              "      <td>1.1390</td>\n",
              "      <td>1.577</td>\n",
              "      <td>18.04</td>\n",
              "      <td>0.005096</td>\n",
              "      <td>0.1230</td>\n",
              "      <td>0.002399</td>\n",
              "      <td>14.17</td>\n",
              "      <td>31.99</td>\n",
              "      <td>92.74</td>\n",
              "      <td>466.5</td>\n",
              "      <td>0.06335</td>\n",
              "      <td>B</td>\n",
              "    </tr>\n",
              "  </tbody>\n",
              "</table>\n",
              "</div>"
            ],
            "text/plain": [
              "   Index        F1     F2     F3  ...     F28    F29      F30  diagnosis\n",
              "0      1  0.008043  10.05  17.53  ...   71.98  310.8  0.06499          B\n",
              "1      2  0.010450  10.80  21.98  ...   83.69  359.9  0.07485          B\n",
              "2      3  0.008747  16.14  14.86  ...  115.90  800.0  0.11290          B\n",
              "3      4  0.015190  12.18  17.84  ...   82.14  451.1  0.05882          B\n",
              "4      5  0.004551  12.25  22.44  ...   92.74  466.5  0.06335          B\n",
              "\n",
              "[5 rows x 32 columns]"
            ]
          },
          "metadata": {
            "tags": []
          },
          "execution_count": 42
        }
      ]
    },
    {
      "cell_type": "code",
      "metadata": {
        "id": "QF3JcNCzoctn",
        "colab_type": "code",
        "colab": {}
      },
      "source": [
        "# Delete index Colum\n",
        "del data['Index']"
      ],
      "execution_count": 0,
      "outputs": []
    },
    {
      "cell_type": "markdown",
      "metadata": {
        "id": "eDSEwLycoq_u",
        "colab_type": "text"
      },
      "source": [
        "# **Data Exploration**"
      ]
    },
    {
      "cell_type": "code",
      "metadata": {
        "id": "L7yQc6MhwcIx",
        "colab_type": "code",
        "outputId": "8dcbe21b-f12c-4cce-ce04-98d486929c17",
        "colab": {
          "base_uri": "https://localhost:8080/",
          "height": 34
        }
      },
      "source": [
        "# Print Data Shape\n",
        "data.shape"
      ],
      "execution_count": 0,
      "outputs": [
        {
          "output_type": "execute_result",
          "data": {
            "text/plain": [
              "(455, 31)"
            ]
          },
          "metadata": {
            "tags": []
          },
          "execution_count": 44
        }
      ]
    },
    {
      "cell_type": "code",
      "metadata": {
        "id": "kOsm6ibBowcz",
        "colab_type": "code",
        "outputId": "ca3af99a-54cf-4844-fb7e-6895c7b8bf6e",
        "colab": {
          "base_uri": "https://localhost:8080/",
          "height": 68
        }
      },
      "source": [
        "data.diagnosis.value_counts()"
      ],
      "execution_count": 0,
      "outputs": [
        {
          "output_type": "execute_result",
          "data": {
            "text/plain": [
              "B    290\n",
              "M    165\n",
              "Name: diagnosis, dtype: int64"
            ]
          },
          "metadata": {
            "tags": []
          },
          "execution_count": 45
        }
      ]
    },
    {
      "cell_type": "code",
      "metadata": {
        "id": "cGF5UWOVo5tW",
        "colab_type": "code",
        "outputId": "ad3b3e49-a47b-4427-abe8-8da09f58cc27",
        "colab": {
          "base_uri": "https://localhost:8080/",
          "height": 280
        }
      },
      "source": [
        "sns.countplot(x=\"diagnosis\", data=data, palette=\"bwr\")\n",
        "plt.show()"
      ],
      "execution_count": 0,
      "outputs": [
        {
          "output_type": "display_data",
          "data": {
            "image/png": "[encoded data removed]",
            "text/plain": [
              "<Figure size 432x288 with 1 Axes>"
            ]
          },
          "metadata": {
            "tags": [],
            "needs_background": "light"
          }
        }
      ]
    },
    {
      "cell_type": "code",
      "metadata": {
        "id": "K-E2oVFKp__1",
        "colab_type": "code",
        "outputId": "296f1e76-5dcf-4836-da4e-7976dc83da8d",
        "colab": {
          "base_uri": "https://localhost:8080/",
          "height": 51
        }
      },
      "source": [
        "countNoDisease = len(data[data.diagnosis == 'B'])\n",
        "countHaveDisease = len(data[data.diagnosis == 'M'])\n",
        "print(\"Percentage of Patients Haven Benign Tumor : {:.2f}%\".format((countNoDisease / (len(data.diagnosis))*100)))\n",
        "print(\"Percentage of Patients Have Malignant Tumor : {:.2f}%\".format((countHaveDisease / (len(data.diagnosis))*100)))"
      ],
      "execution_count": 0,
      "outputs": [
        {
          "output_type": "stream",
          "text": [
            "Percentage of Patients Haven Benign Tumor : 63.74%\n",
            "Percentage of Patients Have Malignant Tumor : 36.26%\n"
          ],
          "name": "stdout"
        }
      ]
    },
    {
      "cell_type": "code",
      "metadata": {
        "id": "BF-nRPFbqjWA",
        "colab_type": "code",
        "outputId": "f076ee29-aea6-4a1b-cfd0-9cf832194f9f",
        "colab": {
          "base_uri": "https://localhost:8080/",
          "height": 162
        }
      },
      "source": [
        "# Get Mean of All Features For Each Label\n",
        "data.groupby('diagnosis').mean()"
      ],
      "execution_count": 0,
      "outputs": [
        {
          "output_type": "execute_result",
          "data": {
            "text/html": [
              "<div>\n",
              "<style scoped>\n",
              "    .dataframe tbody tr th:only-of-type {\n",
              "        vertical-align: middle;\n",
              "    }\n",
              "\n",
              "    .dataframe tbody tr th {\n",
              "        vertical-align: top;\n",
              "    }\n",
              "\n",
              "    .dataframe thead th {\n",
              "        text-align: right;\n",
              "    }\n",
              "</style>\n",
              "<table border=\"1\" class=\"dataframe\">\n",
              "  <thead>\n",
              "    <tr style=\"text-align: right;\">\n",
              "      <th></th>\n",
              "      <th>F1</th>\n",
              "      <th>F2</th>\n",
              "      <th>F3</th>\n",
              "      <th>F4</th>\n",
              "      <th>F5</th>\n",
              "      <th>F6</th>\n",
              "      <th>F7</th>\n",
              "      <th>F8</th>\n",
              "      <th>F9</th>\n",
              "      <th>F10</th>\n",
              "      <th>F11</th>\n",
              "      <th>F12</th>\n",
              "      <th>F13</th>\n",
              "      <th>F14</th>\n",
              "      <th>F15</th>\n",
              "      <th>F16</th>\n",
              "      <th>F17</th>\n",
              "      <th>F18</th>\n",
              "      <th>F19</th>\n",
              "      <th>F20</th>\n",
              "      <th>F21</th>\n",
              "      <th>F22</th>\n",
              "      <th>F23</th>\n",
              "      <th>F24</th>\n",
              "      <th>F25</th>\n",
              "      <th>F26</th>\n",
              "      <th>F27</th>\n",
              "      <th>F28</th>\n",
              "      <th>F29</th>\n",
              "      <th>F30</th>\n",
              "    </tr>\n",
              "    <tr>\n",
              "      <th>diagnosis</th>\n",
              "      <th></th>\n",
              "      <th></th>\n",
              "      <th></th>\n",
              "      <th></th>\n",
              "      <th></th>\n",
              "      <th></th>\n",
              "      <th></th>\n",
              "      <th></th>\n",
              "      <th></th>\n",
              "      <th></th>\n",
              "      <th></th>\n",
              "      <th></th>\n",
              "      <th></th>\n",
              "      <th></th>\n",
              "      <th></th>\n",
              "      <th></th>\n",
              "      <th></th>\n",
              "      <th></th>\n",
              "      <th></th>\n",
              "      <th></th>\n",
              "      <th></th>\n",
              "      <th></th>\n",
              "      <th></th>\n",
              "      <th></th>\n",
              "      <th></th>\n",
              "      <th></th>\n",
              "      <th></th>\n",
              "      <th></th>\n",
              "      <th></th>\n",
              "      <th></th>\n",
              "    </tr>\n",
              "  </thead>\n",
              "  <tbody>\n",
              "    <tr>\n",
              "      <th>B</th>\n",
              "      <td>0.009948</td>\n",
              "      <td>12.183059</td>\n",
              "      <td>17.870310</td>\n",
              "      <td>78.326345</td>\n",
              "      <td>0.020614</td>\n",
              "      <td>0.092664</td>\n",
              "      <td>0.125292</td>\n",
              "      <td>0.080026</td>\n",
              "      <td>0.046976</td>\n",
              "      <td>0.026707</td>\n",
              "      <td>0.026129</td>\n",
              "      <td>0.021432</td>\n",
              "      <td>0.079229</td>\n",
              "      <td>0.174108</td>\n",
              "      <td>0.062798</td>\n",
              "      <td>561.211379</td>\n",
              "      <td>0.281934</td>\n",
              "      <td>0.270595</td>\n",
              "      <td>0.182805</td>\n",
              "      <td>1.217080</td>\n",
              "      <td>1.978918</td>\n",
              "      <td>21.027228</td>\n",
              "      <td>0.007200</td>\n",
              "      <td>0.168842</td>\n",
              "      <td>0.003589</td>\n",
              "      <td>13.418152</td>\n",
              "      <td>23.460793</td>\n",
              "      <td>87.232345</td>\n",
              "      <td>465.041379</td>\n",
              "      <td>0.075397</td>\n",
              "    </tr>\n",
              "    <tr>\n",
              "      <th>M</th>\n",
              "      <td>0.014631</td>\n",
              "      <td>17.503636</td>\n",
              "      <td>21.407091</td>\n",
              "      <td>115.531394</td>\n",
              "      <td>0.020369</td>\n",
              "      <td>0.103003</td>\n",
              "      <td>0.145056</td>\n",
              "      <td>0.144258</td>\n",
              "      <td>0.158680</td>\n",
              "      <td>0.039850</td>\n",
              "      <td>0.088342</td>\n",
              "      <td>0.031445</td>\n",
              "      <td>0.090983</td>\n",
              "      <td>0.192945</td>\n",
              "      <td>0.062440</td>\n",
              "      <td>1443.576364</td>\n",
              "      <td>0.614468</td>\n",
              "      <td>0.325253</td>\n",
              "      <td>0.373234</td>\n",
              "      <td>1.197227</td>\n",
              "      <td>4.312733</td>\n",
              "      <td>74.133697</td>\n",
              "      <td>0.006658</td>\n",
              "      <td>0.440875</td>\n",
              "      <td>0.003924</td>\n",
              "      <td>21.244000</td>\n",
              "      <td>29.190909</td>\n",
              "      <td>141.829758</td>\n",
              "      <td>985.610303</td>\n",
              "      <td>0.183083</td>\n",
              "    </tr>\n",
              "  </tbody>\n",
              "</table>\n",
              "</div>"
            ],
            "text/plain": [
              "                 F1         F2         F3  ...         F28         F29       F30\n",
              "diagnosis                                  ...                                  \n",
              "B          0.009948  12.183059  17.870310  ...   87.232345  465.041379  0.075397\n",
              "M          0.014631  17.503636  21.407091  ...  141.829758  985.610303  0.183083\n",
              "\n",
              "[2 rows x 30 columns]"
            ]
          },
          "metadata": {
            "tags": []
          },
          "execution_count": 47
        }
      ]
    },
    {
      "cell_type": "code",
      "metadata": {
        "id": "5o9NVAApq6Zp",
        "colab_type": "code",
        "outputId": "c7269551-161c-4f78-b328-f04cb371225b",
        "colab": {
          "base_uri": "https://localhost:8080/",
          "height": 317
        }
      },
      "source": [
        "# Summary & Describe Data\n",
        "data.describe()"
      ],
      "execution_count": 0,
      "outputs": [
        {
          "output_type": "execute_result",
          "data": {
            "text/html": [
              "<div>\n",
              "<style scoped>\n",
              "    .dataframe tbody tr th:only-of-type {\n",
              "        vertical-align: middle;\n",
              "    }\n",
              "\n",
              "    .dataframe tbody tr th {\n",
              "        vertical-align: top;\n",
              "    }\n",
              "\n",
              "    .dataframe thead th {\n",
              "        text-align: right;\n",
              "    }\n",
              "</style>\n",
              "<table border=\"1\" class=\"dataframe\">\n",
              "  <thead>\n",
              "    <tr style=\"text-align: right;\">\n",
              "      <th></th>\n",
              "      <th>Index</th>\n",
              "      <th>F1</th>\n",
              "      <th>F2</th>\n",
              "      <th>F3</th>\n",
              "      <th>F4</th>\n",
              "      <th>F5</th>\n",
              "      <th>F6</th>\n",
              "      <th>F7</th>\n",
              "      <th>F8</th>\n",
              "      <th>F9</th>\n",
              "      <th>F10</th>\n",
              "      <th>F11</th>\n",
              "      <th>F12</th>\n",
              "      <th>F13</th>\n",
              "      <th>F14</th>\n",
              "      <th>F15</th>\n",
              "      <th>F16</th>\n",
              "      <th>F17</th>\n",
              "      <th>F18</th>\n",
              "      <th>F19</th>\n",
              "      <th>F20</th>\n",
              "      <th>F21</th>\n",
              "      <th>F22</th>\n",
              "      <th>F23</th>\n",
              "      <th>F24</th>\n",
              "      <th>F25</th>\n",
              "      <th>F26</th>\n",
              "      <th>F27</th>\n",
              "      <th>F28</th>\n",
              "      <th>F29</th>\n",
              "      <th>F30</th>\n",
              "    </tr>\n",
              "  </thead>\n",
              "  <tbody>\n",
              "    <tr>\n",
              "      <th>count</th>\n",
              "      <td>455.000000</td>\n",
              "      <td>455.000000</td>\n",
              "      <td>455.000000</td>\n",
              "      <td>455.000000</td>\n",
              "      <td>455.000000</td>\n",
              "      <td>455.000000</td>\n",
              "      <td>455.000000</td>\n",
              "      <td>455.000000</td>\n",
              "      <td>455.000000</td>\n",
              "      <td>455.000000</td>\n",
              "      <td>455.000000</td>\n",
              "      <td>455.000000</td>\n",
              "      <td>455.000000</td>\n",
              "      <td>455.000000</td>\n",
              "      <td>455.000000</td>\n",
              "      <td>455.000000</td>\n",
              "      <td>455.000000</td>\n",
              "      <td>455.000000</td>\n",
              "      <td>455.000000</td>\n",
              "      <td>455.000000</td>\n",
              "      <td>455.000000</td>\n",
              "      <td>455.000000</td>\n",
              "      <td>455.000000</td>\n",
              "      <td>455.000000</td>\n",
              "      <td>455.000000</td>\n",
              "      <td>455.000000</td>\n",
              "      <td>455.000000</td>\n",
              "      <td>455.000000</td>\n",
              "      <td>455.000000</td>\n",
              "      <td>455.000000</td>\n",
              "      <td>455.000000</td>\n",
              "    </tr>\n",
              "    <tr>\n",
              "      <th>mean</th>\n",
              "      <td>228.000000</td>\n",
              "      <td>0.011646</td>\n",
              "      <td>14.112499</td>\n",
              "      <td>19.152879</td>\n",
              "      <td>91.818286</td>\n",
              "      <td>0.020525</td>\n",
              "      <td>0.096413</td>\n",
              "      <td>0.132459</td>\n",
              "      <td>0.103319</td>\n",
              "      <td>0.087485</td>\n",
              "      <td>0.031473</td>\n",
              "      <td>0.048690</td>\n",
              "      <td>0.025063</td>\n",
              "      <td>0.083491</td>\n",
              "      <td>0.180939</td>\n",
              "      <td>0.062668</td>\n",
              "      <td>881.189890</td>\n",
              "      <td>0.402524</td>\n",
              "      <td>0.290416</td>\n",
              "      <td>0.251862</td>\n",
              "      <td>1.209881</td>\n",
              "      <td>2.825247</td>\n",
              "      <td>40.285618</td>\n",
              "      <td>0.007003</td>\n",
              "      <td>0.267491</td>\n",
              "      <td>0.003710</td>\n",
              "      <td>16.256097</td>\n",
              "      <td>25.538747</td>\n",
              "      <td>107.031407</td>\n",
              "      <td>653.819121</td>\n",
              "      <td>0.114448</td>\n",
              "    </tr>\n",
              "    <tr>\n",
              "      <th>std</th>\n",
              "      <td>131.491445</td>\n",
              "      <td>0.005897</td>\n",
              "      <td>3.535375</td>\n",
              "      <td>4.158963</td>\n",
              "      <td>24.313012</td>\n",
              "      <td>0.008196</td>\n",
              "      <td>0.013799</td>\n",
              "      <td>0.022626</td>\n",
              "      <td>0.050490</td>\n",
              "      <td>0.077802</td>\n",
              "      <td>0.031106</td>\n",
              "      <td>0.038597</td>\n",
              "      <td>0.017510</td>\n",
              "      <td>0.017814</td>\n",
              "      <td>0.027398</td>\n",
              "      <td>0.006819</td>\n",
              "      <td>586.395654</td>\n",
              "      <td>0.284371</td>\n",
              "      <td>0.062992</td>\n",
              "      <td>0.153109</td>\n",
              "      <td>0.541961</td>\n",
              "      <td>2.037754</td>\n",
              "      <td>47.730421</td>\n",
              "      <td>0.002844</td>\n",
              "      <td>0.199638</td>\n",
              "      <td>0.002610</td>\n",
              "      <td>4.890553</td>\n",
              "      <td>6.100631</td>\n",
              "      <td>33.869187</td>\n",
              "      <td>358.166179</td>\n",
              "      <td>0.065321</td>\n",
              "    </tr>\n",
              "    <tr>\n",
              "      <th>min</th>\n",
              "      <td>1.000000</td>\n",
              "      <td>0.000000</td>\n",
              "      <td>6.981000</td>\n",
              "      <td>9.710000</td>\n",
              "      <td>43.790000</td>\n",
              "      <td>0.007882</td>\n",
              "      <td>0.052630</td>\n",
              "      <td>0.071170</td>\n",
              "      <td>0.019380</td>\n",
              "      <td>0.000000</td>\n",
              "      <td>0.000000</td>\n",
              "      <td>0.000000</td>\n",
              "      <td>0.002252</td>\n",
              "      <td>0.055040</td>\n",
              "      <td>0.106000</td>\n",
              "      <td>0.049960</td>\n",
              "      <td>185.200000</td>\n",
              "      <td>0.111500</td>\n",
              "      <td>0.156500</td>\n",
              "      <td>0.027290</td>\n",
              "      <td>0.360200</td>\n",
              "      <td>0.757000</td>\n",
              "      <td>7.228000</td>\n",
              "      <td>0.001713</td>\n",
              "      <td>0.000000</td>\n",
              "      <td>0.000895</td>\n",
              "      <td>7.930000</td>\n",
              "      <td>12.020000</td>\n",
              "      <td>50.410000</td>\n",
              "      <td>143.500000</td>\n",
              "      <td>0.000000</td>\n",
              "    </tr>\n",
              "    <tr>\n",
              "      <th>25%</th>\n",
              "      <td>114.500000</td>\n",
              "      <td>0.007691</td>\n",
              "      <td>11.685000</td>\n",
              "      <td>16.070000</td>\n",
              "      <td>75.100000</td>\n",
              "      <td>0.015015</td>\n",
              "      <td>0.086650</td>\n",
              "      <td>0.116400</td>\n",
              "      <td>0.066160</td>\n",
              "      <td>0.029950</td>\n",
              "      <td>0.015215</td>\n",
              "      <td>0.020720</td>\n",
              "      <td>0.013050</td>\n",
              "      <td>0.071365</td>\n",
              "      <td>0.161850</td>\n",
              "      <td>0.057885</td>\n",
              "      <td>514.650000</td>\n",
              "      <td>0.232050</td>\n",
              "      <td>0.249400</td>\n",
              "      <td>0.147750</td>\n",
              "      <td>0.832400</td>\n",
              "      <td>1.594000</td>\n",
              "      <td>17.740000</td>\n",
              "      <td>0.005163</td>\n",
              "      <td>0.116550</td>\n",
              "      <td>0.002208</td>\n",
              "      <td>13.020000</td>\n",
              "      <td>21.005000</td>\n",
              "      <td>84.135000</td>\n",
              "      <td>418.500000</td>\n",
              "      <td>0.064955</td>\n",
              "    </tr>\n",
              "    <tr>\n",
              "      <th>50%</th>\n",
              "      <td>228.000000</td>\n",
              "      <td>0.010780</td>\n",
              "      <td>13.280000</td>\n",
              "      <td>18.750000</td>\n",
              "      <td>85.980000</td>\n",
              "      <td>0.018720</td>\n",
              "      <td>0.095940</td>\n",
              "      <td>0.131600</td>\n",
              "      <td>0.092280</td>\n",
              "      <td>0.060150</td>\n",
              "      <td>0.025440</td>\n",
              "      <td>0.033410</td>\n",
              "      <td>0.020250</td>\n",
              "      <td>0.079610</td>\n",
              "      <td>0.179200</td>\n",
              "      <td>0.061540</td>\n",
              "      <td>675.200000</td>\n",
              "      <td>0.314700</td>\n",
              "      <td>0.281500</td>\n",
              "      <td>0.211800</td>\n",
              "      <td>1.127000</td>\n",
              "      <td>2.222000</td>\n",
              "      <td>23.560000</td>\n",
              "      <td>0.006369</td>\n",
              "      <td>0.228200</td>\n",
              "      <td>0.003071</td>\n",
              "      <td>14.850000</td>\n",
              "      <td>25.210000</td>\n",
              "      <td>97.110000</td>\n",
              "      <td>541.800000</td>\n",
              "      <td>0.098610</td>\n",
              "    </tr>\n",
              "    <tr>\n",
              "      <th>75%</th>\n",
              "      <td>341.500000</td>\n",
              "      <td>0.014595</td>\n",
              "      <td>15.720000</td>\n",
              "      <td>21.590000</td>\n",
              "      <td>103.650000</td>\n",
              "      <td>0.022935</td>\n",
              "      <td>0.105400</td>\n",
              "      <td>0.145250</td>\n",
              "      <td>0.129300</td>\n",
              "      <td>0.124600</td>\n",
              "      <td>0.040000</td>\n",
              "      <td>0.074095</td>\n",
              "      <td>0.031720</td>\n",
              "      <td>0.091620</td>\n",
              "      <td>0.195500</td>\n",
              "      <td>0.065795</td>\n",
              "      <td>1032.500000</td>\n",
              "      <td>0.470300</td>\n",
              "      <td>0.319000</td>\n",
              "      <td>0.335000</td>\n",
              "      <td>1.472000</td>\n",
              "      <td>3.270500</td>\n",
              "      <td>44.410000</td>\n",
              "      <td>0.008156</td>\n",
              "      <td>0.378150</td>\n",
              "      <td>0.004457</td>\n",
              "      <td>18.410000</td>\n",
              "      <td>29.335000</td>\n",
              "      <td>124.200000</td>\n",
              "      <td>761.500000</td>\n",
              "      <td>0.160800</td>\n",
              "    </tr>\n",
              "    <tr>\n",
              "      <th>max</th>\n",
              "      <td>455.000000</td>\n",
              "      <td>0.052790</td>\n",
              "      <td>28.110000</td>\n",
              "      <td>33.810000</td>\n",
              "      <td>188.500000</td>\n",
              "      <td>0.061460</td>\n",
              "      <td>0.144700</td>\n",
              "      <td>0.222600</td>\n",
              "      <td>0.311400</td>\n",
              "      <td>0.426800</td>\n",
              "      <td>0.396000</td>\n",
              "      <td>0.201200</td>\n",
              "      <td>0.135400</td>\n",
              "      <td>0.207500</td>\n",
              "      <td>0.304000</td>\n",
              "      <td>0.097440</td>\n",
              "      <td>4254.000000</td>\n",
              "      <td>2.873000</td>\n",
              "      <td>0.663800</td>\n",
              "      <td>1.058000</td>\n",
              "      <td>4.885000</td>\n",
              "      <td>21.980000</td>\n",
              "      <td>542.200000</td>\n",
              "      <td>0.023330</td>\n",
              "      <td>1.252000</td>\n",
              "      <td>0.029840</td>\n",
              "      <td>36.040000</td>\n",
              "      <td>49.540000</td>\n",
              "      <td>251.200000</td>\n",
              "      <td>2501.000000</td>\n",
              "      <td>0.290300</td>\n",
              "    </tr>\n",
              "  </tbody>\n",
              "</table>\n",
              "</div>"
            ],
            "text/plain": [
              "            Index          F1          F2  ...         F28          F29         F30\n",
              "count  455.000000  455.000000  455.000000  ...  455.000000   455.000000  455.000000\n",
              "mean   228.000000    0.011646   14.112499  ...  107.031407   653.819121    0.114448\n",
              "std    131.491445    0.005897    3.535375  ...   33.869187   358.166179    0.065321\n",
              "min      1.000000    0.000000    6.981000  ...   50.410000   143.500000    0.000000\n",
              "25%    114.500000    0.007691   11.685000  ...   84.135000   418.500000    0.064955\n",
              "50%    228.000000    0.010780   13.280000  ...   97.110000   541.800000    0.098610\n",
              "75%    341.500000    0.014595   15.720000  ...  124.200000   761.500000    0.160800\n",
              "max    455.000000    0.052790   28.110000  ...  251.200000  2501.000000    0.290300\n",
              "\n",
              "[8 rows x 31 columns]"
            ]
          },
          "metadata": {
            "tags": []
          },
          "execution_count": 9
        }
      ]
    },
    {
      "cell_type": "markdown",
      "metadata": {
        "id": "DbHY7pxprhx8",
        "colab_type": "text"
      },
      "source": [
        "# **Preprocessing**"
      ]
    },
    {
      "cell_type": "code",
      "metadata": {
        "id": "f30XLjoproem",
        "colab_type": "code",
        "colab": {}
      },
      "source": [
        "# Divide Data to Features and Label\n",
        "\n",
        "X           = data.iloc[:,:-1].values\n",
        "Y           = data.iloc[:,-1].values\n",
        "\n",
        "# Convert Labels From String to number\n",
        "y_train   = []\n",
        "for i in range(0 ,len(Y)):\n",
        "    if Y[i] == 'B':\n",
        "        y_train.append(0)\n",
        "    else :\n",
        "        y_train.append(1)\n",
        "y_train = np.array(y_train)"
      ],
      "execution_count": 0,
      "outputs": []
    },
    {
      "cell_type": "code",
      "metadata": {
        "id": "BBOmHrumsrMg",
        "colab_type": "code",
        "outputId": "f352a03b-e0a0-4ba8-dc9f-576c1ca710af",
        "colab": {
          "base_uri": "https://localhost:8080/",
          "height": 238
        }
      },
      "source": [
        "# Scale Data using Standard Scaler \n",
        "sc          = StandardScaler()\n",
        "X_train           = sc.fit_transform(X)\n",
        "print(X_train)"
      ],
      "execution_count": 0,
      "outputs": [
        {
          "output_type": "stream",
          "text": [
            "[[-0.61170002 -1.15036482 -0.39064196 ... -1.0360446  -0.95876358\n",
            "  -0.75798367]\n",
            " [-0.20309076 -0.93798972  0.68051405 ... -0.68992205 -0.82152548\n",
            "  -0.60687023]\n",
            " [-0.49218988  0.574121   -1.03333557 ...  0.26213665  0.40858627\n",
            "  -0.02371948]\n",
            " ...\n",
            " [-0.86260343 -1.32422924 -0.20048168 ... -0.92342915 -1.04876494\n",
            "  -0.97974953]\n",
            " [-1.97706948 -1.24380987 -0.2245526  ... -1.32364258 -1.02221174\n",
            "  -1.75401433]\n",
            " [ 0.17377362 -0.73694129  1.14989702 ... -0.73159863 -0.69966029\n",
            "  -0.27460457]]\n"
          ],
          "name": "stdout"
        }
      ]
    },
    {
      "cell_type": "markdown",
      "metadata": {
        "id": "WhnKR5zatYOk",
        "colab_type": "text"
      },
      "source": [
        "# **Neural Network**\n",
        "\n",
        "\n",
        "\n",
        "\n",
        "\n"
      ]
    },
    {
      "cell_type": "markdown",
      "metadata": {
        "id": "e6U4LyaIuStK",
        "colab_type": "text"
      },
      "source": [
        "## 1. **Sigmoid**\n",
        "\n",
        "\n"
      ]
    },
    {
      "cell_type": "code",
      "metadata": {
        "id": "7MJgEUBaue-4",
        "colab_type": "code",
        "outputId": "87c362ac-a4ac-4053-9cce-ab9283603fba",
        "colab": {
          "base_uri": "https://localhost:8080/",
          "height": 1000
        }
      },
      "source": [
        "np.random.seed(1000)\n",
        "# Use ANN\n",
        "classifier      = Sequential()\n",
        "classifier.add(Dense(7 , init='uniform' , activation= 'relu' , input_shape=(30,)))\n",
        "classifier.add(Dense(7 , init='uniform' , activation = 'relu' ))\n",
        "classifier.add(Dense(1 , init='uniform' , activation='sigmoid' ))\n",
        "classifier.compile(optimizer='adam' , loss='binary_crossentropy', metrics=['accuracy'])\n",
        "# Fitting ANN to Training set\n",
        "classifier.fit(X_train , y_train , batch_size=10 , nb_epoch=50, validation_split=0.2)"
      ],
      "execution_count": 0,
      "outputs": [
        {
          "output_type": "stream",
          "text": [
            "/usr/local/lib/python3.6/dist-packages/ipykernel_launcher.py:4: UserWarning: Update your `Dense` call to the Keras 2 API: `Dense(7, activation=\"relu\", input_shape=(30,), kernel_initializer=\"uniform\")`\n",
            "  after removing the cwd from sys.path.\n",
            "/usr/local/lib/python3.6/dist-packages/ipykernel_launcher.py:5: UserWarning: Update your `Dense` call to the Keras 2 API: `Dense(7, activation=\"relu\", kernel_initializer=\"uniform\")`\n",
            "  \"\"\"\n",
            "/usr/local/lib/python3.6/dist-packages/ipykernel_launcher.py:6: UserWarning: Update your `Dense` call to the Keras 2 API: `Dense(1, activation=\"sigmoid\", kernel_initializer=\"uniform\")`\n",
            "  \n",
            "/usr/local/lib/python3.6/dist-packages/ipykernel_launcher.py:9: UserWarning: The `nb_epoch` argument in `fit` has been renamed `epochs`.\n",
            "  if __name__ == '__main__':\n"
          ],
          "name": "stderr"
        },
        {
          "output_type": "stream",
          "text": [
            "Train on 364 samples, validate on 91 samples\n",
            "Epoch 1/50\n",
            "364/364 [==============================] - 0s 1ms/step - loss: 0.6891 - accuracy: 0.6429 - val_loss: 0.6818 - val_accuracy: 0.6374\n",
            "Epoch 2/50\n",
            "364/364 [==============================] - 0s 143us/step - loss: 0.6528 - accuracy: 0.7692 - val_loss: 0.6146 - val_accuracy: 0.9231\n",
            "Epoch 3/50\n",
            "364/364 [==============================] - 0s 145us/step - loss: 0.5285 - accuracy: 0.9423 - val_loss: 0.4531 - val_accuracy: 0.9560\n",
            "Epoch 4/50\n",
            "364/364 [==============================] - 0s 160us/step - loss: 0.3541 - accuracy: 0.9396 - val_loss: 0.2931 - val_accuracy: 0.9780\n",
            "Epoch 5/50\n",
            "364/364 [==============================] - 0s 152us/step - loss: 0.2355 - accuracy: 0.9451 - val_loss: 0.1962 - val_accuracy: 0.9890\n",
            "Epoch 6/50\n",
            "364/364 [==============================] - 0s 146us/step - loss: 0.1721 - accuracy: 0.9615 - val_loss: 0.1471 - val_accuracy: 0.9890\n",
            "Epoch 7/50\n",
            "364/364 [==============================] - 0s 153us/step - loss: 0.1404 - accuracy: 0.9670 - val_loss: 0.1181 - val_accuracy: 0.9890\n",
            "Epoch 8/50\n",
            "364/364 [==============================] - 0s 144us/step - loss: 0.1227 - accuracy: 0.9670 - val_loss: 0.1017 - val_accuracy: 0.9890\n",
            "Epoch 9/50\n",
            "364/364 [==============================] - 0s 150us/step - loss: 0.1116 - accuracy: 0.9670 - val_loss: 0.0898 - val_accuracy: 0.9890\n",
            "Epoch 10/50\n",
            "364/364 [==============================] - 0s 144us/step - loss: 0.1033 - accuracy: 0.9753 - val_loss: 0.0807 - val_accuracy: 0.9890\n",
            "Epoch 11/50\n",
            "364/364 [==============================] - 0s 143us/step - loss: 0.0977 - accuracy: 0.9835 - val_loss: 0.0757 - val_accuracy: 0.9780\n",
            "Epoch 12/50\n",
            "364/364 [==============================] - 0s 145us/step - loss: 0.0923 - accuracy: 0.9835 - val_loss: 0.0701 - val_accuracy: 0.9780\n",
            "Epoch 13/50\n",
            "364/364 [==============================] - 0s 148us/step - loss: 0.0880 - accuracy: 0.9835 - val_loss: 0.0648 - val_accuracy: 0.9780\n",
            "Epoch 14/50\n",
            "364/364 [==============================] - 0s 160us/step - loss: 0.0833 - accuracy: 0.9835 - val_loss: 0.0606 - val_accuracy: 0.9780\n",
            "Epoch 15/50\n",
            "364/364 [==============================] - 0s 157us/step - loss: 0.0791 - accuracy: 0.9835 - val_loss: 0.0570 - val_accuracy: 0.9780\n",
            "Epoch 16/50\n",
            "364/364 [==============================] - 0s 146us/step - loss: 0.0763 - accuracy: 0.9835 - val_loss: 0.0544 - val_accuracy: 0.9780\n",
            "Epoch 17/50\n",
            "364/364 [==============================] - 0s 147us/step - loss: 0.0735 - accuracy: 0.9835 - val_loss: 0.0526 - val_accuracy: 0.9780\n",
            "Epoch 18/50\n",
            "364/364 [==============================] - 0s 152us/step - loss: 0.0717 - accuracy: 0.9835 - val_loss: 0.0500 - val_accuracy: 0.9780\n",
            "Epoch 19/50\n",
            "364/364 [==============================] - 0s 145us/step - loss: 0.0691 - accuracy: 0.9863 - val_loss: 0.0481 - val_accuracy: 0.9780\n",
            "Epoch 20/50\n",
            "364/364 [==============================] - 0s 145us/step - loss: 0.0677 - accuracy: 0.9863 - val_loss: 0.0474 - val_accuracy: 0.9780\n",
            "Epoch 21/50\n",
            "364/364 [==============================] - 0s 148us/step - loss: 0.0663 - accuracy: 0.9863 - val_loss: 0.0461 - val_accuracy: 0.9780\n",
            "Epoch 22/50\n",
            "364/364 [==============================] - 0s 144us/step - loss: 0.0652 - accuracy: 0.9863 - val_loss: 0.0443 - val_accuracy: 0.9780\n",
            "Epoch 23/50\n",
            "364/364 [==============================] - 0s 151us/step - loss: 0.0639 - accuracy: 0.9863 - val_loss: 0.0429 - val_accuracy: 0.9780\n",
            "Epoch 24/50\n",
            "364/364 [==============================] - 0s 148us/step - loss: 0.0630 - accuracy: 0.9863 - val_loss: 0.0418 - val_accuracy: 0.9780\n",
            "Epoch 25/50\n",
            "364/364 [==============================] - 0s 143us/step - loss: 0.0621 - accuracy: 0.9863 - val_loss: 0.0401 - val_accuracy: 0.9780\n",
            "Epoch 26/50\n",
            "364/364 [==============================] - 0s 145us/step - loss: 0.0612 - accuracy: 0.9863 - val_loss: 0.0393 - val_accuracy: 0.9890\n",
            "Epoch 27/50\n",
            "364/364 [==============================] - 0s 164us/step - loss: 0.0601 - accuracy: 0.9863 - val_loss: 0.0385 - val_accuracy: 0.9890\n",
            "Epoch 28/50\n",
            "364/364 [==============================] - 0s 141us/step - loss: 0.0594 - accuracy: 0.9863 - val_loss: 0.0382 - val_accuracy: 0.9890\n",
            "Epoch 29/50\n",
            "364/364 [==============================] - 0s 140us/step - loss: 0.0583 - accuracy: 0.9863 - val_loss: 0.0376 - val_accuracy: 0.9890\n",
            "Epoch 30/50\n",
            "364/364 [==============================] - 0s 141us/step - loss: 0.0582 - accuracy: 0.9863 - val_loss: 0.0363 - val_accuracy: 1.0000\n",
            "Epoch 31/50\n",
            "364/364 [==============================] - 0s 137us/step - loss: 0.0564 - accuracy: 0.9863 - val_loss: 0.0361 - val_accuracy: 1.0000\n",
            "Epoch 32/50\n",
            "364/364 [==============================] - 0s 142us/step - loss: 0.0556 - accuracy: 0.9863 - val_loss: 0.0353 - val_accuracy: 0.9890\n",
            "Epoch 33/50\n",
            "364/364 [==============================] - 0s 144us/step - loss: 0.0548 - accuracy: 0.9863 - val_loss: 0.0346 - val_accuracy: 0.9890\n",
            "Epoch 34/50\n",
            "364/364 [==============================] - 0s 161us/step - loss: 0.0540 - accuracy: 0.9863 - val_loss: 0.0343 - val_accuracy: 0.9890\n",
            "Epoch 35/50\n",
            "364/364 [==============================] - 0s 140us/step - loss: 0.0532 - accuracy: 0.9863 - val_loss: 0.0338 - val_accuracy: 0.9890\n",
            "Epoch 36/50\n",
            "364/364 [==============================] - 0s 140us/step - loss: 0.0529 - accuracy: 0.9863 - val_loss: 0.0331 - val_accuracy: 0.9890\n",
            "Epoch 37/50\n",
            "364/364 [==============================] - 0s 144us/step - loss: 0.0520 - accuracy: 0.9863 - val_loss: 0.0324 - val_accuracy: 0.9890\n",
            "Epoch 38/50\n",
            "364/364 [==============================] - 0s 139us/step - loss: 0.0512 - accuracy: 0.9863 - val_loss: 0.0328 - val_accuracy: 0.9890\n",
            "Epoch 39/50\n",
            "364/364 [==============================] - 0s 156us/step - loss: 0.0508 - accuracy: 0.9863 - val_loss: 0.0320 - val_accuracy: 0.9890\n",
            "Epoch 40/50\n",
            "364/364 [==============================] - 0s 143us/step - loss: 0.0501 - accuracy: 0.9863 - val_loss: 0.0312 - val_accuracy: 0.9890\n",
            "Epoch 41/50\n",
            "364/364 [==============================] - 0s 139us/step - loss: 0.0497 - accuracy: 0.9863 - val_loss: 0.0302 - val_accuracy: 1.0000\n",
            "Epoch 42/50\n",
            "364/364 [==============================] - 0s 142us/step - loss: 0.0489 - accuracy: 0.9863 - val_loss: 0.0309 - val_accuracy: 1.0000\n",
            "Epoch 43/50\n",
            "364/364 [==============================] - 0s 140us/step - loss: 0.0482 - accuracy: 0.9863 - val_loss: 0.0300 - val_accuracy: 0.9890\n",
            "Epoch 44/50\n",
            "364/364 [==============================] - 0s 145us/step - loss: 0.0475 - accuracy: 0.9863 - val_loss: 0.0294 - val_accuracy: 1.0000\n",
            "Epoch 45/50\n",
            "364/364 [==============================] - 0s 142us/step - loss: 0.0470 - accuracy: 0.9890 - val_loss: 0.0286 - val_accuracy: 1.0000\n",
            "Epoch 46/50\n",
            "364/364 [==============================] - 0s 198us/step - loss: 0.0467 - accuracy: 0.9890 - val_loss: 0.0286 - val_accuracy: 1.0000\n",
            "Epoch 47/50\n",
            "364/364 [==============================] - 0s 168us/step - loss: 0.0457 - accuracy: 0.9890 - val_loss: 0.0285 - val_accuracy: 0.9890\n",
            "Epoch 48/50\n",
            "364/364 [==============================] - 0s 166us/step - loss: 0.0455 - accuracy: 0.9890 - val_loss: 0.0277 - val_accuracy: 1.0000\n",
            "Epoch 49/50\n",
            "364/364 [==============================] - 0s 162us/step - loss: 0.0446 - accuracy: 0.9890 - val_loss: 0.0274 - val_accuracy: 0.9890\n",
            "Epoch 50/50\n",
            "364/364 [==============================] - 0s 150us/step - loss: 0.0440 - accuracy: 0.9890 - val_loss: 0.0281 - val_accuracy: 0.9890\n"
          ],
          "name": "stdout"
        },
        {
          "output_type": "execute_result",
          "data": {
            "text/plain": [
              "<keras.callbacks.callbacks.History at 0x7f2dd11e04e0>"
            ]
          },
          "metadata": {
            "tags": []
          },
          "execution_count": 50
        }
      ]
    },
    {
      "cell_type": "code",
      "metadata": {
        "id": "fMuQxVrTvSGT",
        "colab_type": "code",
        "colab": {}
      },
      "source": [
        "# Reading Test Data\n",
        "test_data   = pd.read_csv('/content/drive/My Drive/Tumor/Tumor Cancer Prediction_test.csv')\n",
        "del test_data['Index']\n",
        "test   = test_data.iloc[:,:].values"
      ],
      "execution_count": 0,
      "outputs": []
    },
    {
      "cell_type": "code",
      "metadata": {
        "id": "Vch31DgEvsyP",
        "colab_type": "code",
        "outputId": "0e71a9a2-30ab-4e41-9b56-a5add7356dcf",
        "colab": {
          "base_uri": "https://localhost:8080/",
          "height": 238
        }
      },
      "source": [
        "# Scale Test Data \n",
        "test    = sc.transform(test)\n",
        "print(test)"
      ],
      "execution_count": 0,
      "outputs": [
        {
          "output_type": "stream",
          "text": [
            "[[ 0.28751196 -0.20175604  0.3290786  ...  0.18528621 -0.27145506\n",
            "   1.3893291 ]\n",
            " [-0.88195592 -0.25555773  1.46763319 ... -0.4652823  -0.32400244\n",
            "  -0.83369364]\n",
            " [-0.15046556 -0.02619262 -0.8407682  ... -0.31039911 -0.13226041\n",
            "  -0.49483785]\n",
            " ...\n",
            " [ 1.26532225  1.71811488  0.09318356 ...  1.15182826  1.66636924\n",
            "   1.57630515]\n",
            " [-0.20139318  1.18859296  0.34352115 ...  1.03950839  1.11294474\n",
            "   0.56019755]\n",
            " [-0.27269184  0.26263752 -0.58080224 ...  0.07887791  0.09945116\n",
            "  -0.19383705]]\n"
          ],
          "name": "stdout"
        }
      ]
    },
    {
      "cell_type": "code",
      "metadata": {
        "id": "QJy7DutQwLuE",
        "colab_type": "code",
        "colab": {}
      },
      "source": [
        "# Prediction \n",
        "y_pred  = classifier.predict(test)\n",
        "final   = []\n",
        "for i in y_pred :\n",
        "  if i >= 0.5:\n",
        "    final.append('M')\n",
        "  else:\n",
        "    final.append('B')\n"
      ],
      "execution_count": 0,
      "outputs": []
    },
    {
      "cell_type": "code",
      "metadata": {
        "id": "EIeCMfbCyKYJ",
        "colab_type": "code",
        "colab": {}
      },
      "source": [
        "# Write answer file in CSV\n",
        "f = {'Index': [i for i in range(456, 570)], \"diagnosis\": final}\n",
        "df = pd.DataFrame(f)\n",
        "df.to_csv('ans.csv', index=False)"
      ],
      "execution_count": 0,
      "outputs": []
    },
    {
      "cell_type": "markdown",
      "metadata": {
        "id": "GFcCEhzWyifo",
        "colab_type": "text"
      },
      "source": [
        ">***Achieved accuracy 98.245%***"
      ]
    },
    {
      "cell_type": "markdown",
      "metadata": {
        "id": "BRAP_UJp3n5m",
        "colab_type": "text"
      },
      "source": [
        "## 2. **Softmax**"
      ]
    },
    {
      "cell_type": "code",
      "metadata": {
        "id": "P69hFKbY4FM7",
        "colab_type": "code",
        "colab": {}
      },
      "source": [
        "# Preprocess Step to Convert Labels to Probability Classes\n",
        "y_train   = []\n",
        "for i in range(0 ,len(Y)):\n",
        "    if Y[i] == 'B':\n",
        "        y_train.append( np.array([1,0]))\n",
        "    else :\n",
        "        y_train.append( np.array([0,1]))\n",
        "y_train = np.array(y_train)"
      ],
      "execution_count": 0,
      "outputs": []
    },
    {
      "cell_type": "code",
      "metadata": {
        "id": "6YTy1Yv142sq",
        "colab_type": "code",
        "outputId": "93b750fa-af86-46a4-fe71-5dee0da6c7a2",
        "colab": {
          "base_uri": "https://localhost:8080/",
          "height": 173
        }
      },
      "source": [
        "np.random.seed(1000)\n",
        "# Define Our Model\n",
        "classifier      = Sequential()\n",
        "classifier.add(Dense(15 , init='uniform' , activation= 'sigmoid' , input_shape=(30,)))\n",
        "classifier.add(Dense(10 , init='uniform' , activation = 'sigmoid' ))\n",
        "classifier.add(Dense(10 , init='uniform' , activation = 'sigmoid' ))\n",
        "classifier.add(Dense(2 , init='uniform' , activation='softmax' ))\n",
        "classifier.compile(optimizer='adam' , loss='binary_crossentropy', metrics=['accuracy'])"
      ],
      "execution_count": 0,
      "outputs": [
        {
          "output_type": "stream",
          "text": [
            "/usr/local/lib/python3.6/dist-packages/ipykernel_launcher.py:4: UserWarning: Update your `Dense` call to the Keras 2 API: `Dense(15, activation=\"sigmoid\", input_shape=(30,), kernel_initializer=\"uniform\")`\n",
            "  after removing the cwd from sys.path.\n",
            "/usr/local/lib/python3.6/dist-packages/ipykernel_launcher.py:5: UserWarning: Update your `Dense` call to the Keras 2 API: `Dense(10, activation=\"sigmoid\", kernel_initializer=\"uniform\")`\n",
            "  \"\"\"\n",
            "/usr/local/lib/python3.6/dist-packages/ipykernel_launcher.py:6: UserWarning: Update your `Dense` call to the Keras 2 API: `Dense(10, activation=\"sigmoid\", kernel_initializer=\"uniform\")`\n",
            "  \n",
            "/usr/local/lib/python3.6/dist-packages/ipykernel_launcher.py:7: UserWarning: Update your `Dense` call to the Keras 2 API: `Dense(2, activation=\"softmax\", kernel_initializer=\"uniform\")`\n",
            "  import sys\n"
          ],
          "name": "stderr"
        }
      ]
    },
    {
      "cell_type": "code",
      "metadata": {
        "id": "Orm6LtR95CVY",
        "colab_type": "code",
        "outputId": "e782b85a-b052-489a-9116-9ac52b672e25",
        "colab": {
          "base_uri": "https://localhost:8080/"
        }
      },
      "source": [
        "# Fitting Model\n",
        "classifier.fit(X_train , y_train , batch_size=10 , nb_epoch=20, validation_split=0.2)"
      ],
      "execution_count": 0,
      "outputs": [
        {
          "output_type": "stream",
          "text": [
            "/usr/local/lib/python3.6/dist-packages/ipykernel_launcher.py:1: UserWarning: The `nb_epoch` argument in `fit` has been renamed `epochs`.\n",
            "  \"\"\"Entry point for launching an IPython kernel.\n"
          ],
          "name": "stderr"
        },
        {
          "output_type": "stream",
          "text": [
            "Train on 364 samples, validate on 91 samples\n",
            "Epoch 1/20\n",
            "364/364 [==============================] - 0s 657us/step - loss: 0.6749 - accuracy: 0.6456 - val_loss: 0.6736 - val_accuracy: 0.6044\n",
            "Epoch 2/20\n",
            "364/364 [==============================] - 0s 210us/step - loss: 0.6547 - accuracy: 0.6456 - val_loss: 0.6710 - val_accuracy: 0.6044\n",
            "Epoch 3/20\n",
            "364/364 [==============================] - 0s 168us/step - loss: 0.6498 - accuracy: 0.6456 - val_loss: 0.6719 - val_accuracy: 0.6044\n",
            "Epoch 4/20\n",
            "364/364 [==============================] - 0s 155us/step - loss: 0.6461 - accuracy: 0.6456 - val_loss: 0.6676 - val_accuracy: 0.6044\n",
            "Epoch 5/20\n",
            "364/364 [==============================] - 0s 159us/step - loss: 0.6395 - accuracy: 0.6456 - val_loss: 0.6612 - val_accuracy: 0.6044\n",
            "Epoch 6/20\n",
            "364/364 [==============================] - 0s 166us/step - loss: 0.6322 - accuracy: 0.6456 - val_loss: 0.6542 - val_accuracy: 0.6044\n",
            "Epoch 7/20\n",
            "364/364 [==============================] - 0s 153us/step - loss: 0.6252 - accuracy: 0.6456 - val_loss: 0.6472 - val_accuracy: 0.6044\n",
            "Epoch 8/20\n",
            "364/364 [==============================] - 0s 164us/step - loss: 0.6154 - accuracy: 0.6456 - val_loss: 0.6374 - val_accuracy: 0.6044\n",
            "Epoch 9/20\n",
            "364/364 [==============================] - 0s 152us/step - loss: 0.6054 - accuracy: 0.6456 - val_loss: 0.6279 - val_accuracy: 0.6044\n",
            "Epoch 10/20\n",
            "364/364 [==============================] - 0s 157us/step - loss: 0.5945 - accuracy: 0.6456 - val_loss: 0.6146 - val_accuracy: 0.6044\n",
            "Epoch 11/20\n",
            "364/364 [==============================] - 0s 158us/step - loss: 0.5798 - accuracy: 0.6456 - val_loss: 0.5976 - val_accuracy: 0.6044\n",
            "Epoch 12/20\n",
            "364/364 [==============================] - 0s 200us/step - loss: 0.5621 - accuracy: 0.6456 - val_loss: 0.5773 - val_accuracy: 0.6044\n",
            "Epoch 13/20\n",
            "364/364 [==============================] - 0s 197us/step - loss: 0.5425 - accuracy: 0.6456 - val_loss: 0.5553 - val_accuracy: 0.6044\n",
            "Epoch 14/20\n",
            "364/364 [==============================] - 0s 201us/step - loss: 0.5209 - accuracy: 0.6456 - val_loss: 0.5311 - val_accuracy: 0.6044\n",
            "Epoch 15/20\n",
            "364/364 [==============================] - 0s 205us/step - loss: 0.4976 - accuracy: 0.6456 - val_loss: 0.5060 - val_accuracy: 0.6044\n",
            "Epoch 16/20\n",
            "364/364 [==============================] - 0s 169us/step - loss: 0.4735 - accuracy: 0.6456 - val_loss: 0.4788 - val_accuracy: 0.6044\n",
            "Epoch 17/20\n",
            "364/364 [==============================] - 0s 154us/step - loss: 0.4492 - accuracy: 0.6456 - val_loss: 0.4521 - val_accuracy: 0.6044\n",
            "Epoch 18/20\n",
            "364/364 [==============================] - 0s 151us/step - loss: 0.4251 - accuracy: 0.6456 - val_loss: 0.4255 - val_accuracy: 0.6044\n",
            "Epoch 19/20\n",
            "364/364 [==============================] - 0s 159us/step - loss: 0.4011 - accuracy: 0.6456 - val_loss: 0.3998 - val_accuracy: 0.6044\n",
            "Epoch 20/20\n",
            "364/364 [==============================] - 0s 150us/step - loss: 0.3779 - accuracy: 0.6896 - val_loss: 0.3757 - val_accuracy: 0.9451\n"
          ],
          "name": "stdout"
        },
        {
          "output_type": "execute_result",
          "data": {
            "text/plain": [
              "<keras.callbacks.callbacks.History at 0x7f6cbf72d898>"
            ]
          },
          "metadata": {
            "tags": []
          },
          "execution_count": 27
        }
      ]
    },
    {
      "cell_type": "code",
      "metadata": {
        "id": "DZemcw3C5sYT",
        "colab_type": "code",
        "outputId": "69dac071-6ab0-40b9-b27e-e169f780b0df",
        "colab": {
          "base_uri": "https://localhost:8080/",
          "height": 1000
        }
      },
      "source": [
        "# Make Prediction\n",
        "y_pred  = classifier.predict(test)\n",
        "print(y_pred)"
      ],
      "execution_count": 0,
      "outputs": [
        {
          "output_type": "stream",
          "text": [
            "[[0.5101374  0.4898626 ]\n",
            " [0.51013726 0.4898627 ]\n",
            " [0.5101369  0.489863  ]\n",
            " [0.5101373  0.48986265]\n",
            " [0.51013684 0.48986307]\n",
            " [0.51013714 0.48986286]\n",
            " [0.5101367  0.4898633 ]\n",
            " [0.5101374  0.4898626 ]\n",
            " [0.5101377  0.48986232]\n",
            " [0.51013637 0.4898637 ]\n",
            " [0.51013625 0.48986378]\n",
            " [0.5101371  0.48986295]\n",
            " [0.51013714 0.48986286]\n",
            " [0.51013684 0.48986307]\n",
            " [0.51013637 0.4898637 ]\n",
            " [0.51013654 0.48986349]\n",
            " [0.5101362  0.48986378]\n",
            " [0.5101372  0.48986277]\n",
            " [0.5101362  0.4898638 ]\n",
            " [0.51013666 0.48986334]\n",
            " [0.5101376  0.4898624 ]\n",
            " [0.51013654 0.48986349]\n",
            " [0.5101371  0.489863  ]\n",
            " [0.51013714 0.48986292]\n",
            " [0.5101362  0.48986378]\n",
            " [0.51013684 0.4898631 ]\n",
            " [0.51013726 0.48986274]\n",
            " [0.5101366  0.48986334]\n",
            " [0.51013714 0.48986286]\n",
            " [0.5101373  0.48986265]\n",
            " [0.51013684 0.48986316]\n",
            " [0.5101372  0.48986277]\n",
            " [0.51013696 0.48986298]\n",
            " [0.510137   0.48986298]\n",
            " [0.5101371  0.48986298]\n",
            " [0.5101373  0.48986265]\n",
            " [0.5101372  0.48986286]\n",
            " [0.5101369  0.48986307]\n",
            " [0.5101369  0.48986307]\n",
            " [0.51013726 0.4898628 ]\n",
            " [0.51013756 0.48986244]\n",
            " [0.5101369  0.48986307]\n",
            " [0.51013744 0.48986253]\n",
            " [0.510137   0.48986298]\n",
            " [0.5101366  0.48986343]\n",
            " [0.5101368  0.48986316]\n",
            " [0.5101372  0.48986286]\n",
            " [0.5101371  0.48986298]\n",
            " [0.5101371  0.489863  ]\n",
            " [0.5101374  0.48986268]\n",
            " [0.5101357  0.4898643 ]\n",
            " [0.5101366  0.48986337]\n",
            " [0.5101373  0.48986265]\n",
            " [0.5101374  0.48986268]\n",
            " [0.51013666 0.48986328]\n",
            " [0.51013726 0.48986277]\n",
            " [0.51013744 0.4898626 ]\n",
            " [0.5101375  0.48986253]\n",
            " [0.5101374  0.48986268]\n",
            " [0.5101369  0.48986307]\n",
            " [0.51013714 0.48986292]\n",
            " [0.5101372  0.48986277]\n",
            " [0.5101366  0.4898634 ]\n",
            " [0.51013696 0.48986298]\n",
            " [0.51013607 0.48986387]\n",
            " [0.5101372  0.4898628 ]\n",
            " [0.5101362  0.48986384]\n",
            " [0.5101376  0.48986238]\n",
            " [0.51013696 0.48986298]\n",
            " [0.51013726 0.4898628 ]\n",
            " [0.5101369  0.489863  ]\n",
            " [0.51013714 0.48986286]\n",
            " [0.5101369  0.48986307]\n",
            " [0.51013714 0.4898629 ]\n",
            " [0.51013696 0.48986298]\n",
            " [0.5101373  0.48986274]\n",
            " [0.51013726 0.4898628 ]\n",
            " [0.51013637 0.4898637 ]\n",
            " [0.5101373  0.4898627 ]\n",
            " [0.5101368  0.48986316]\n",
            " [0.51013696 0.48986298]\n",
            " [0.51013654 0.48986343]\n",
            " [0.5101369  0.48986304]\n",
            " [0.51013684 0.4898631 ]\n",
            " [0.5101369  0.48986304]\n",
            " [0.5101368  0.48986322]\n",
            " [0.51013696 0.489863  ]\n",
            " [0.5101373  0.48986274]\n",
            " [0.5101375  0.48986253]\n",
            " [0.51013666 0.48986328]\n",
            " [0.5101369  0.48986304]\n",
            " [0.5101373  0.48986268]\n",
            " [0.51013714 0.48986295]\n",
            " [0.5101374  0.48986268]\n",
            " [0.51013714 0.48986295]\n",
            " [0.5101369  0.4898631 ]\n",
            " [0.51013744 0.48986256]\n",
            " [0.51013637 0.4898636 ]\n",
            " [0.5101371  0.48986298]\n",
            " [0.51013684 0.48986316]\n",
            " [0.51013464 0.4898654 ]\n",
            " [0.51013744 0.4898626 ]\n",
            " [0.5101371  0.48986295]\n",
            " [0.51013684 0.4898631 ]\n",
            " [0.51013714 0.4898629 ]\n",
            " [0.5101357  0.4898643 ]\n",
            " [0.5101363  0.48986375]\n",
            " [0.51013684 0.48986316]\n",
            " [0.51013726 0.48986274]\n",
            " [0.5101351  0.4898649 ]\n",
            " [0.51013684 0.48986313]\n",
            " [0.51013654 0.4898634 ]\n",
            " [0.5101369  0.4898631 ]\n",
            " [0.5101367  0.4898633 ]]\n"
          ],
          "name": "stdout"
        }
      ]
    },
    {
      "cell_type": "code",
      "metadata": {
        "id": "ueAFkc6p5-KK",
        "colab_type": "code",
        "colab": {}
      },
      "source": [
        "# Take Maximum Probability Index Class\n",
        "pp = np.argmax(y_pred, axis=1)\n",
        "final = []\n",
        "for i in pp:\n",
        "    if i == 0:\n",
        "        final.append('B')\n",
        "    else:\n",
        "        final.append('M')"
      ],
      "execution_count": 0,
      "outputs": []
    },
    {
      "cell_type": "code",
      "metadata": {
        "id": "F8Sc6HQk6JCd",
        "colab_type": "code",
        "colab": {}
      },
      "source": [
        "# Write answer in CSV File\n",
        "f = {'Index': [i for i in range(456, 570)], \"diagnosis\": final}\n",
        "df = pd.DataFrame(f)\n",
        "df.to_csv('ans.csv', index=False)"
      ],
      "execution_count": 0,
      "outputs": []
    },
    {
      "cell_type": "markdown",
      "metadata": {
        "id": "ZfLunlrZ6Wp6",
        "colab_type": "text"
      },
      "source": [
        ">***Achieved accuracy 0.94736%***"
      ]
    },
    {
      "cell_type": "markdown",
      "metadata": {
        "id": "1l6L-cFj7p7G",
        "colab_type": "text"
      },
      "source": [
        "# **Machine Learning**"
      ]
    },
    {
      "cell_type": "markdown",
      "metadata": {
        "id": "qLtMsIUb8Net",
        "colab_type": "text"
      },
      "source": [
        "## 1. **KNearestNeighboors**"
      ]
    },
    {
      "cell_type": "code",
      "metadata": {
        "id": "1wCPVMGt9FY5",
        "colab_type": "code",
        "colab": {}
      },
      "source": [
        "# import data splitting\n",
        "from sklearn.model_selection import train_test_split\n",
        "x_train , x_test , y_t , y_test = train_test_split(X_train , y_train , test_size=0.2 , random_state=0 )"
      ],
      "execution_count": 0,
      "outputs": []
    },
    {
      "cell_type": "code",
      "metadata": {
        "id": "t8HXMhXr9_lc",
        "colab_type": "code",
        "outputId": "9dd48982-6fb2-42b0-ddae-5cacf376d5d6",
        "colab": {
          "base_uri": "https://localhost:8080/",
          "height": 68
        }
      },
      "source": [
        "# Fitting Model with k = 3\n",
        "clf = KNeighborsClassifier(n_neighbors=3)\n",
        "clf.fit(x_train , y_t)"
      ],
      "execution_count": 0,
      "outputs": [
        {
          "output_type": "execute_result",
          "data": {
            "text/plain": [
              "KNeighborsClassifier(algorithm='auto', leaf_size=30, metric='minkowski',\n",
              "                     metric_params=None, n_jobs=None, n_neighbors=3, p=2,\n",
              "                     weights='uniform')"
            ]
          },
          "metadata": {
            "tags": []
          },
          "execution_count": 13
        }
      ]
    },
    {
      "cell_type": "code",
      "metadata": {
        "id": "U7hL84G1-Qex",
        "colab_type": "code",
        "colab": {}
      },
      "source": [
        "# Prediction\n",
        "y_pred = clf.predict(x_test)"
      ],
      "execution_count": 0,
      "outputs": []
    },
    {
      "cell_type": "code",
      "metadata": {
        "id": "dY2PSpD8-YAt",
        "colab_type": "code",
        "outputId": "dee39707-a8f7-46db-eae7-330af158b44f",
        "colab": {
          "base_uri": "https://localhost:8080/",
          "height": 34
        }
      },
      "source": [
        "# Calculate  Validation accuracy\n",
        "from sklearn.metrics import accuracy_score\n",
        "print('Validation Accuracy : {}'.format(accuracy_score(y_test, y_pred) * 100))"
      ],
      "execution_count": 0,
      "outputs": [
        {
          "output_type": "stream",
          "text": [
            "Validation Accuracy : 97.8021978021978\n"
          ],
          "name": "stdout"
        }
      ]
    },
    {
      "cell_type": "code",
      "metadata": {
        "id": "OGPSBHukaF1R",
        "colab_type": "code",
        "outputId": "c317bd4e-2757-4c8f-b586-978194abfde5",
        "colab": {
          "base_uri": "https://localhost:8080/",
          "height": 295
        }
      },
      "source": [
        "# Confusion Matrix\n",
        "labels = np.unique(y_test)\n",
        "disp = plot_confusion_matrix(clf, x_test, y_test,\n",
        "                                 display_labels=labels,\n",
        "                                 cmap=plt.cm.Blues,\n",
        "                                 normalize=None)\n",
        "disp.ax_.set_title('Confusion matrix KNN')\n",
        "plt.show()"
      ],
      "execution_count": 0,
      "outputs": [
        {
          "output_type": "display_data",
          "data": {
            "image/png": "[encoded data removed]",
            "text/plain": [
              "<Figure size 432x288 with 2 Axes>"
            ]
          },
          "metadata": {
            "tags": [],
            "needs_background": "light"
          }
        }
      ]
    },
    {
      "cell_type": "markdown",
      "metadata": {
        "id": "dydq6-h5_Del",
        "colab_type": "text"
      },
      "source": [
        ""
      ]
    },
    {
      "cell_type": "markdown",
      "metadata": {
        "id": "QluIiZOL_Fuz",
        "colab_type": "text"
      },
      "source": [
        "## 2. **Logistic Regression**"
      ]
    },
    {
      "cell_type": "code",
      "metadata": {
        "id": "xi2LV_Gl_Oku",
        "colab_type": "code",
        "colab": {}
      },
      "source": [
        "# Import Logistic Regression \n",
        "from sklearn.linear_model import LogisticRegression\n",
        "clf = LogisticRegression().fit(x_train , y_t)"
      ],
      "execution_count": 0,
      "outputs": []
    },
    {
      "cell_type": "code",
      "metadata": {
        "id": "0sMilPux_tBT",
        "colab_type": "code",
        "colab": {}
      },
      "source": [
        "# Predict\n",
        "y_pred = clf.predict(x_test)"
      ],
      "execution_count": 0,
      "outputs": []
    },
    {
      "cell_type": "code",
      "metadata": {
        "id": "1tQbSRBz_4bC",
        "colab_type": "code",
        "outputId": "a7e88f66-7eac-4c78-ecab-0d4878070a10",
        "colab": {
          "base_uri": "https://localhost:8080/",
          "height": 34
        }
      },
      "source": [
        "# Calculate  Validation accuracy\n",
        "from sklearn.metrics import accuracy_score\n",
        "print('Validation Accuracy : {}'.format(accuracy_score(y_test, y_pred) * 100))"
      ],
      "execution_count": 0,
      "outputs": [
        {
          "output_type": "stream",
          "text": [
            "Validation Accuracy : 95.6043956043956\n"
          ],
          "name": "stdout"
        }
      ]
    },
    {
      "cell_type": "code",
      "metadata": {
        "id": "6qrPnnLaaspe",
        "colab_type": "code",
        "outputId": "312438d4-e0e4-46ad-c5bf-a6dbe8b5ce13",
        "colab": {
          "base_uri": "https://localhost:8080/",
          "height": 295
        }
      },
      "source": [
        "# Confusion Matrix\n",
        "labels = np.unique(y_test)\n",
        "disp = plot_confusion_matrix(clf, x_test, y_test,\n",
        "                                 display_labels=labels,\n",
        "                                 cmap=plt.cm.Blues,\n",
        "                                 normalize=None)\n",
        "disp.ax_.set_title('Confusion matrix KNN')\n",
        "plt.show()"
      ],
      "execution_count": 0,
      "outputs": [
        {
          "output_type": "display_data",
          "data": {
            "image/png": "[encoded data removed]",
            "text/plain": [
              "<Figure size 432x288 with 2 Axes>"
            ]
          },
          "metadata": {
            "tags": [],
            "needs_background": "light"
          }
        }
      ]
    },
    {
      "cell_type": "markdown",
      "metadata": {
        "id": "6JClJUyF_9VO",
        "colab_type": "text"
      },
      "source": [
        "## 3. **Decision Tree**"
      ]
    },
    {
      "cell_type": "code",
      "metadata": {
        "id": "wpEYvyszAEbG",
        "colab_type": "code",
        "outputId": "fd2dc516-897b-4c45-cc6c-6c6071b3640e",
        "colab": {
          "base_uri": "https://localhost:8080/",
          "height": 119
        }
      },
      "source": [
        "# Import Decision Tree\n",
        "from sklearn.tree import DecisionTreeClassifier\n",
        "clf = DecisionTreeClassifier(max_depth=5)\n",
        "clf.fit(x_train , y_t)"
      ],
      "execution_count": 0,
      "outputs": [
        {
          "output_type": "execute_result",
          "data": {
            "text/plain": [
              "DecisionTreeClassifier(ccp_alpha=0.0, class_weight=None, criterion='gini',\n",
              "                       max_depth=5, max_features=None, max_leaf_nodes=None,\n",
              "                       min_impurity_decrease=0.0, min_impurity_split=None,\n",
              "                       min_samples_leaf=1, min_samples_split=2,\n",
              "                       min_weight_fraction_leaf=0.0, presort='deprecated',\n",
              "                       random_state=None, splitter='best')"
            ]
          },
          "metadata": {
            "tags": []
          },
          "execution_count": 22
        }
      ]
    },
    {
      "cell_type": "code",
      "metadata": {
        "id": "eQc8x7IpA3Uo",
        "colab_type": "code",
        "colab": {}
      },
      "source": [
        "#Prediction\n",
        "y_pred = clf.predict(x_test)"
      ],
      "execution_count": 0,
      "outputs": []
    },
    {
      "cell_type": "code",
      "metadata": {
        "id": "gnpP9naZA9Ku",
        "colab_type": "code",
        "outputId": "af085a1c-fd6a-48e5-9d11-38051ef1e268",
        "colab": {
          "base_uri": "https://localhost:8080/",
          "height": 34
        }
      },
      "source": [
        "# Calculate  Validation accuracy\n",
        "from sklearn.metrics import accuracy_score\n",
        "print('Validation Accuracy : {}'.format(accuracy_score(y_test, y_pred) * 100))"
      ],
      "execution_count": 0,
      "outputs": [
        {
          "output_type": "stream",
          "text": [
            "Validation Accuracy : 92.3076923076923\n"
          ],
          "name": "stdout"
        }
      ]
    },
    {
      "cell_type": "code",
      "metadata": {
        "id": "p-h2OYEWazeP",
        "colab_type": "code",
        "outputId": "fc9cc7c9-dfea-405b-898e-b053b63073ac",
        "colab": {
          "base_uri": "https://localhost:8080/",
          "height": 295
        }
      },
      "source": [
        "# Confusion Matrix\n",
        "labels = np.unique(y_test)\n",
        "disp = plot_confusion_matrix(clf, x_test, y_test,\n",
        "                                 display_labels=labels,\n",
        "                                 cmap=plt.cm.Blues,\n",
        "                                 normalize=None)\n",
        "disp.ax_.set_title('Confusion matrix KNN')\n",
        "plt.show()"
      ],
      "execution_count": 0,
      "outputs": [
        {
          "output_type": "display_data",
          "data": {
            "image/png": "[encoded data removed]",
            "text/plain": [
              "<Figure size 432x288 with 2 Axes>"
            ]
          },
          "metadata": {
            "tags": [],
            "needs_background": "light"
          }
        }
      ]
    },
    {
      "cell_type": "markdown",
      "metadata": {
        "id": "TPNIgyZ0BSpm",
        "colab_type": "text"
      },
      "source": [
        "# **PCA**"
      ]
    },
    {
      "cell_type": "code",
      "metadata": {
        "id": "kytGw9fTBXwJ",
        "colab_type": "code",
        "outputId": "b8bc9cdc-d950-4f5a-a6ce-51a7d654d23c",
        "colab": {
          "base_uri": "https://localhost:8080/",
          "height": 153
        }
      },
      "source": [
        "# Import PCA Script\n",
        "from sklearn.decomposition import PCA\n",
        "pca = PCA()\n",
        "pca.fit(X_train)\n",
        "\n",
        "print(pca.explained_variance_ratio_)"
      ],
      "execution_count": 0,
      "outputs": [
        {
          "output_type": "stream",
          "text": [
            "[4.34307675e-01 1.97401146e-01 9.35177070e-02 6.67766058e-02\n",
            " 5.64245165e-02 4.07161938e-02 2.14925398e-02 1.51269268e-02\n",
            " 1.39676264e-02 1.16009156e-02 1.01216224e-02 8.97175303e-03\n",
            " 7.71439121e-03 5.55309643e-03 3.11522438e-03 2.64580181e-03\n",
            " 1.99647487e-03 1.70618303e-03 1.50414589e-03 1.06143766e-03\n",
            " 9.94608221e-04 8.78454935e-04 7.24281209e-04 5.81085817e-04\n",
            " 5.46645369e-04 2.61499457e-04 2.16152203e-04 4.62504070e-05\n",
            " 2.53207432e-05 3.71910834e-06]\n"
          ],
          "name": "stdout"
        }
      ]
    },
    {
      "cell_type": "code",
      "metadata": {
        "id": "rwgZdARPCFYJ",
        "colab_type": "code",
        "outputId": "e428b81a-e062-46e7-9d23-b2fed669c0df",
        "colab": {
          "base_uri": "https://localhost:8080/",
          "height": 316
        }
      },
      "source": [
        "# Plotting \n",
        "df = pd.read_csv('/content/drive/My Drive/Tumor/Tumor Cancer Prediction_train.csv')\n",
        "del df['Index']\n",
        "del df['diagnosis']\n",
        "xplt = np.array(df.columns)\n",
        "print(xplt)\n",
        "plt.bar(xplt,pca.explained_variance_ratio_)\n",
        "plt.show()"
      ],
      "execution_count": 0,
      "outputs": [
        {
          "output_type": "stream",
          "text": [
            "['F1' 'F2' 'F3' 'F4' 'F5' 'F6' 'F7' 'F8' 'F9' 'F10' 'F11' 'F12' 'F13'\n",
            " 'F14' 'F15' 'F16' 'F17' 'F18' 'F19' 'F20' 'F21' 'F22' 'F23' 'F24' 'F25'\n",
            " 'F26' 'F27' 'F28' 'F29' 'F30']\n"
          ],
          "name": "stdout"
        },
        {
          "output_type": "display_data",
          "data": {
            "image/png": "[encoded data removed]",
            "text/plain": [
              "<Figure size 432x288 with 1 Axes>"
            ]
          },
          "metadata": {
            "tags": [],
            "needs_background": "light"
          }
        }
      ]
    }
  ]
}